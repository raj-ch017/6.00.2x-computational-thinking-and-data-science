{
 "cells": [
  {
   "cell_type": "code",
   "execution_count": 11,
   "id": "c2ed466b",
   "metadata": {},
   "outputs": [
    {
     "name": "stdout",
     "output_type": "stream",
     "text": [
      "L = [1, -2, 3.33, 5, 6.9] \n",
      "\n",
      "Applying absolute value to L.\n",
      "L = [1, 2, 3.33, 5, 6.9] \n",
      "\n",
      "Applying string conversion to L.\n",
      "L = ['1', '-2', '3.33', '5', '6.9'] \n",
      "\n"
     ]
    }
   ],
   "source": [
    "def applyToEach(L,f):\n",
    "    \"\"\"\n",
    "    Assumes L is a list, f is a function\n",
    "    Mutates L by replacing each element (e) by f(e)\n",
    "    \"\"\"\n",
    "    \n",
    "    #out_list = []\n",
    "    \n",
    "    for k in range(len(L)):\n",
    "        L[k] = f(L[k])\n",
    "        #out_list.append(f(L[k]))\n",
    "        \n",
    "    return L\n",
    "    \n",
    "L = [1,-2,3.33,5,6.9]\n",
    "\n",
    "print('L =',L,\"\\n\")\n",
    "\n",
    "print(\"Applying absolute value to L.\")\n",
    "print(\"L =\",applyToEach(L,abs),\"\\n\")\n",
    "\n",
    "print(\"Applying string conversion to L.\")\n",
    "print(\"L =\",applyToEach(L,str),\"\\n\")\n",
    "\n",
    "# print(\"Applying Factorial to L.\")\n",
    "# print(\"L =\",applyToEach(L,factR))\n",
    "\n",
    "# print(\"Applying Fibonacci to L.\")\n",
    "# print(\"L =\",applyToEach(L,fib))"
   ]
  },
  {
   "cell_type": "code",
   "execution_count": 12,
   "id": "ebd174cb",
   "metadata": {},
   "outputs": [],
   "source": [
    "def squareIt(ele):\n",
    "    \"\"\"\n",
    "    Takes in an input and returns it's square\n",
    "    \"\"\"\n",
    "    \n",
    "    return ele ** 2"
   ]
  },
  {
   "cell_type": "code",
   "execution_count": 13,
   "id": "db1a81d8",
   "metadata": {},
   "outputs": [
    {
     "data": {
      "text/plain": [
       "[7, 20, 16, 24, 9, 13, 4, 14, 13, 1]"
      ]
     },
     "execution_count": 13,
     "metadata": {},
     "output_type": "execute_result"
    }
   ],
   "source": [
    "import random\n",
    "\n",
    "a_list = []\n",
    "\n",
    "for k in range(10):\n",
    "    a_list.append(random.randint(1,25))\n",
    "    \n",
    "a_list"
   ]
  },
  {
   "cell_type": "code",
   "execution_count": 14,
   "id": "1953494c",
   "metadata": {},
   "outputs": [
    {
     "name": "stdout",
     "output_type": "stream",
     "text": [
      "49\n",
      "400\n",
      "256\n",
      "576\n",
      "81\n",
      "169\n",
      "16\n",
      "196\n",
      "169\n",
      "1\n"
     ]
    }
   ],
   "source": [
    "\"\"\"\n",
    "map with unary function\n",
    "\"\"\"\n",
    "\n",
    "for j in map(squareIt,a_list):\n",
    "    print(j)\n",
    "    \n",
    "\"\"\"\n",
    "The first argument to map is the function.\n",
    "The second argument to map is an ordered collection of values\n",
    "\n",
    "map uses the for-loop construct to apply the function to each element of the collection\n",
    "\"\"\""
   ]
  },
  {
   "cell_type": "code",
   "execution_count": 16,
   "id": "72985092",
   "metadata": {
    "scrolled": true
   },
   "outputs": [
    {
     "name": "stdout",
     "output_type": "stream",
     "text": [
      "[11, 19, 6, 23, 18, 1, 15, 25, 22, 23] \n",
      "\n",
      "[54, 86, 42, 51, 100, 39, 88, 92, 47, 98] \n",
      "\n",
      "11\n",
      "19\n",
      "6\n",
      "23\n",
      "18\n",
      "1\n",
      "15\n",
      "25\n",
      "22\n",
      "23\n"
     ]
    }
   ],
   "source": [
    "\"\"\"\n",
    "map with n-argument function\n",
    "\"\"\"\n",
    "\n",
    "list1 = [random.randint(1,25) for k in range(10)]\n",
    "list2 = [random.randint(1,100) for k in range(10)]\n",
    "\n",
    "print(list1,\"\\n\")\n",
    "print(list2,\"\\n\")\n",
    "\n",
    "for j in map(min,list1,list2):\n",
    "    print(j)\n",
    "    \n",
    "\"\"\"\n",
    "length of ordered collections must be the same\n",
    "\"\"\""
   ]
  },
  {
   "cell_type": "code",
   "execution_count": 17,
   "id": "7b965aac",
   "metadata": {},
   "outputs": [
    {
     "name": "stdout",
     "output_type": "stream",
     "text": [
      "[594, 1634, 252, 1173, 1800, 39, 1320, 2300, 1034, 2254]\n"
     ]
    }
   ],
   "source": [
    "\"\"\"\n",
    "\n",
    "Syntax of Lambda Expression:\n",
    "\n",
    "    lambda <sequence of variable names> : <expression>\n",
    "    \n",
    "\"\"\"\n",
    "\n",
    "new_list = []\n",
    "\n",
    "for i in map(lambda x,y: x*y,list1,list2):\n",
    "    new_list.append(i)\n",
    "    \n",
    "print(new_list)"
   ]
  }
 ],
 "metadata": {
  "kernelspec": {
   "display_name": "Python 3 (ipykernel)",
   "language": "python",
   "name": "python3"
  },
  "language_info": {
   "codemirror_mode": {
    "name": "ipython",
    "version": 3
   },
   "file_extension": ".py",
   "mimetype": "text/x-python",
   "name": "python",
   "nbconvert_exporter": "python",
   "pygments_lexer": "ipython3",
   "version": "3.9.12"
  }
 },
 "nbformat": 4,
 "nbformat_minor": 5
}
