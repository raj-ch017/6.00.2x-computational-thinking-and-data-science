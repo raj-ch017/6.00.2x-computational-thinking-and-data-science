{
 "cells": [
  {
   "cell_type": "code",
   "execution_count": 2,
   "id": "96684d4c",
   "metadata": {},
   "outputs": [],
   "source": [
    "# Left-first, depth-first enumeration\n",
    "\n",
    "class Food(object):\n",
    "    \n",
    "    def __init__(self,n,v,w):\n",
    "        self.name = n\n",
    "        self.value = v\n",
    "        self.calories = w\n",
    "        \n",
    "    def getValue(self):\n",
    "        return self.value\n",
    "    \n",
    "    def getCost(self):\n",
    "        return self.calories\n",
    "    \n",
    "    def density(self):\n",
    "        return self.getValue() / self.getCost()\n",
    "    \n",
    "    def __str__(self):\n",
    "        return self.name + ': <' + str(self.value) + ', ' + str(self.calories) + '>'\n",
    "    \n",
    "    \n",
    "    \n",
    "def buildMenu(names,values,calories):\n",
    "    \"\"\"\n",
    "    names, values, calories lists of same length.\n",
    "    name a list of strings\n",
    "    values and calories lists of numbers\n",
    "    returns list of Foods\n",
    "    \"\"\"\n",
    "    \n",
    "    menu = []\n",
    "    \n",
    "    for i in range(len(values)):\n",
    "        \n",
    "        menu.append(Food(names[i],values[i],calories[i]))\n",
    "        \n",
    "    return menu\n",
    "\n"
   ]
  },
  {
   "cell_type": "code",
   "execution_count": 10,
   "id": "552f1453",
   "metadata": {},
   "outputs": [],
   "source": [
    "def maxVal(toConsider,avail):\n",
    "    \"\"\"\n",
    "    Assumes toConsider is a list of items, avail a weight\n",
    "    \n",
    "    Returns a tuple of the total value of a solution to 0/1 knapsack problem and the items of that solution\n",
    "    \"\"\"\n",
    "    \n",
    "    if toConsider == [] or avail == 0:\n",
    "        result = (0,())\n",
    "        \n",
    "    elif toConsider[0].getCost() > avail:\n",
    "        result = maxVal(toConsider[1:],avail)\n",
    "        \n",
    "    else:\n",
    "        nextItem = toConsider[0]\n",
    "        withVal, withToTake = maxVal(toConsider[1:],avail - nextItem.getCost())\n",
    "        withVal += nextItem.getValue()\n",
    "        withoutVal, withoutToTake = maxVal(toConsider[1:],avail)\n",
    "        \n",
    "        if withVal > withoutVal:\n",
    "            result = (withVal,withToTake + (nextItem,))\n",
    "        else:\n",
    "            result = (withoutVal,withoutToTake)\n",
    "        \n",
    "    return result\n",
    "\n",
    "# def testMaxVal(foods,maxUnits,printItems = True):\n",
    "#     print('Use search tree to allocate',maxUnits,'calories')\n",
    "#     val, taken = maxVal(foods,maxUnits)\n",
    "#     print('Total value of items take =',val)\n",
    "#     if printItems:\n",
    "#         for item in taken:\n",
    "#             print(item)"
   ]
  },
  {
   "cell_type": "code",
   "execution_count": 11,
   "id": "f60f1086",
   "metadata": {},
   "outputs": [
    {
     "name": "stdout",
     "output_type": "stream",
     "text": [
      "Use search tree to allocate 750 calories\n",
      "Total value of items take= 353\n",
      "cola: <79, 150>\n",
      "pizza: <95, 258>\n",
      "beer: <90, 154>\n",
      "wine: <89, 123>\n"
     ]
    }
   ],
   "source": [
    "names = ['wine','beer','pizza','burger','fries','cola','apple','donut','cake']\n",
    "values = [89,90,95,100,90,79,50,10]\n",
    "calories = [123,154,258,354,365,150,95,195]\n",
    "foods = buildMenu(names,values,calories)\n",
    "\n",
    "testMaxVal(foods,750)"
   ]
  },
  {
   "cell_type": "code",
   "execution_count": 16,
   "id": "56ecdf7b",
   "metadata": {},
   "outputs": [
    {
     "name": "stdout",
     "output_type": "stream",
     "text": [
      "[]\n",
      "[0]\n",
      "[1]\n",
      "[0, 1]\n",
      "[10]\n",
      "[0, 10]\n",
      "[1, 10]\n",
      "[0, 1, 10]\n"
     ]
    }
   ],
   "source": [
    "# generate all combinations of N items\n",
    "\n",
    "def powerSet(items):\n",
    "    N = len(items)\n",
    "    \n",
    "    # enumerate the 2**N possible combinations\n",
    "    \n",
    "    for i in range(2**N):\n",
    "        combo = []\n",
    "        for j in range(N):\n",
    "            # test bit jth of integer i\n",
    "            \n",
    "            if (i >> j) % 2 == 1:\n",
    "                combo.append(items[j])\n",
    "        yield combo\n",
    "        \n",
    "out = powerSet([0,1,10])\n",
    "\n",
    "for k in out:\n",
    "    print(k)"
   ]
  },
  {
   "cell_type": "code",
   "execution_count": 57,
   "id": "12da6dd6",
   "metadata": {},
   "outputs": [
    {
     "name": "stdout",
     "output_type": "stream",
     "text": [
      "([], [])\n",
      "([1], [])\n",
      "([], [1])\n",
      "([2], [])\n",
      "([1, 2], [])\n",
      "([2], [1])\n",
      "([], [2])\n",
      "([1], [2])\n",
      "([], [1, 2])\n"
     ]
    }
   ],
   "source": [
    "\"\"\"\n",
    "Exercise\n",
    "\n",
    "Write a generator that returns every arrangement of items such that each is in one or none of two different bags. \n",
    "Each combination should be given as a tuple of two lists, the first being the items in bag1, and the \n",
    "second being the items in bag2.\n",
    "\"\"\"\n",
    "\n",
    "def yieldAllCombos(items):\n",
    "    \"\"\"\n",
    "    Generates all combinations of N items into two bags, whereby each item is in \n",
    "    one or zero bags\n",
    "    \n",
    "    Yields a tuple (bag1,bag2) where each bag is represented as a list of which items(s) \n",
    "    are in each bag\n",
    "    \"\"\"\n",
    "    \n",
    "    N = len(items)\n",
    "    \n",
    "    for i in range(3**N):\n",
    "        bag1 = []\n",
    "        bag2 = []\n",
    "        \n",
    "        for k in range(N):\n",
    "            \n",
    "            if (i // (3 ** k)) % 3 == 2:\n",
    "                bag2.append(items[k])\n",
    "            elif (i // (3**k)) % 3 == 1:\n",
    "                bag1.append(items[k])\n",
    "            else:\n",
    "                pass\n",
    "                \n",
    "        yield (bag1,bag2)\n",
    "        \n",
    "output = yieldAllCombos([1,2])\n",
    "\n",
    "for j in output:\n",
    "    print(j)"
   ]
  },
  {
   "cell_type": "code",
   "execution_count": 54,
   "id": "690248b2",
   "metadata": {},
   "outputs": [
    {
     "name": "stdout",
     "output_type": "stream",
     "text": [
      "0 >> 0 = 0\n",
      "0 >> 1 = 0\n",
      "1 >> 0 = 1\n",
      "1 >> 1 = 0\n",
      "2 >> 0 = 2\n",
      "2 >> 1 = 1\n",
      "3 >> 0 = 3\n",
      "3 >> 1 = 1\n",
      "4 >> 0 = 4\n",
      "4 >> 1 = 2\n",
      "5 >> 0 = 5\n",
      "5 >> 1 = 2\n",
      "6 >> 0 = 6\n",
      "6 >> 1 = 3\n",
      "7 >> 0 = 7\n",
      "7 >> 1 = 3\n",
      "8 >> 0 = 8\n",
      "8 >> 1 = 4\n"
     ]
    }
   ],
   "source": [
    "list1 = [0,1]\n",
    "l = len(list1)\n",
    "\n",
    "for k in range(3**l):\n",
    "    for j in range(l):\n",
    "        print(\"{} >> {} = {}\".format(k,j,k>>j))"
   ]
  },
  {
   "cell_type": "code",
   "execution_count": 65,
   "id": "962ebf17",
   "metadata": {},
   "outputs": [],
   "source": [
    "def fastMaxVal(toConsider,avail,memo={}):\n",
    "    \"\"\"\n",
    "    Assumes toConsider a list of subjects, avail a weight\n",
    "    memo supplied by recursive calls\n",
    "    \n",
    "    Returns a tuple of the total value of a solution to the 0/1 \n",
    "    knapsack problem and the subjects of that solution\n",
    "    \"\"\"\n",
    "    \n",
    "    if (len(toConsider),avail) in memo:\n",
    "        result = memo[(len(toConsider),avail)]\n",
    "        \n",
    "    elif toConsider == [] or avail == 0:\n",
    "        result =(0,())\n",
    "    \n",
    "    elif toConsider[0].getCost > avail:\n",
    "        result = fastMaxVal(toConsider[1:],avail,memo)\n",
    "        \n",
    "    else:\n",
    "        nextItem = toConsider[0]\n",
    "        \n",
    "        withVal, withToTake = fastMaxVal(toConsider[1:],avail - nextItem.getCost(),memo)\n",
    "        \n",
    "        withVal += nextItem.getValue()\n",
    "        \n",
    "        withoutVal, withoutToTake = fastMaxVal(toConsider[1:],avail,memo)\n",
    "        \n",
    "        if withVal > withoutVal:\n",
    "            result = (withVal,withToTake + (nextItem,))\n",
    "        else:\n",
    "            result = (withoutVal,withoutToTake)\n",
    "            \n",
    "    memo[(len(toConsider),avail)] = result\n",
    "    return result"
   ]
  },
  {
   "cell_type": "code",
   "execution_count": 67,
   "id": "e7488fc4",
   "metadata": {},
   "outputs": [],
   "source": [
    "def testMaxVal(foods,maxUnits,algorithm,printItems=True):\n",
    "    print('Menu contains',len(food),'items')\n",
    "    print('Use search tree to allocate',maxUnits,'calories')\n",
    "    val, taken = algorithm(foods,maxUnits)\n",
    "    if printItems:\n",
    "        print('Total value of items taken',val)\n",
    "        for item in taken:\n",
    "            print(item)"
   ]
  },
  {
   "cell_type": "code",
   "execution_count": 66,
   "id": "6767ce46",
   "metadata": {},
   "outputs": [
    {
     "name": "stdout",
     "output_type": "stream",
     "text": [
      "Use search tree to allocate 750 calories\n",
      "Total value of items take= 353\n",
      "cola: <79, 150>\n",
      "pizza: <95, 258>\n",
      "beer: <90, 154>\n",
      "wine: <89, 123>\n"
     ]
    }
   ],
   "source": [
    "names = ['wine','beer','pizza','burger','fries','cola','apple','donut','cake']\n",
    "values = [89,90,95,100,90,79,50,10]\n",
    "calories = [123,154,258,354,365,150,95,195]\n",
    "foods = buildMenu(names,values,calories)\n",
    "\n",
    "testMaxVal(foods,750,fastMaxVal)"
   ]
  },
  {
   "cell_type": "code",
   "execution_count": null,
   "id": "2b3f8116",
   "metadata": {},
   "outputs": [],
   "source": []
  }
 ],
 "metadata": {
  "kernelspec": {
   "display_name": "Python 3 (ipykernel)",
   "language": "python",
   "name": "python3"
  },
  "language_info": {
   "codemirror_mode": {
    "name": "ipython",
    "version": 3
   },
   "file_extension": ".py",
   "mimetype": "text/x-python",
   "name": "python",
   "nbconvert_exporter": "python",
   "pygments_lexer": "ipython3",
   "version": "3.9.12"
  }
 },
 "nbformat": 4,
 "nbformat_minor": 5
}
