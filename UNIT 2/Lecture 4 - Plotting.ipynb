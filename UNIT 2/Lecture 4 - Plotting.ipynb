{
 "cells": [
  {
   "cell_type": "code",
   "execution_count": null,
   "metadata": {},
   "outputs": [],
   "source": [
    "import matplotlib.pyplot as plt\n",
    "from math import *\n",
    "\n",
    "input_val = [x for x in range(25)]\n",
    "linear = [x for x in range(25)]\n",
    "quadratic = [x**2 for x in range(25)]\n",
    "cubic = [x**3 for x in range(25)]\n",
    "expo = [1.5 ** x for x in range(25)]\n",
    "trig = [sin(x) for x in range(25)]\n",
    "\n",
    "# print(quadratic)\n",
    "# print(cubic)\n",
    "# print(trig)\n"
   ]
  },
  {
   "cell_type": "code",
   "execution_count": null,
   "metadata": {},
   "outputs": [],
   "source": [
    "plt.plot(input_val,linear)\n",
    "#plt.plot(input_val,quadratic)\n",
    "#plt.plot(input_val,cubic)\n",
    "#plt.plot(input_val,expo)\n",
    "plt.plot(input_val,trig)\n",
    "\n",
    "# overlapping all the values on a single figure"
   ]
  },
  {
   "cell_type": "code",
   "execution_count": null,
   "metadata": {},
   "outputs": [],
   "source": [
    "id(input_val) == id(linear)"
   ]
  },
  {
   "cell_type": "code",
   "execution_count": null,
   "metadata": {},
   "outputs": [],
   "source": [
    "plt.figure(\"Linear\")\n",
    "plt.plot(input_val,linear)\n",
    "plt.figure(\"Quadratic\")\n",
    "plt.plot(input_val,quadratic)\n",
    "plt.figure(\"Cubic\")\n",
    "plt.plot(input_val,cubic)\n",
    "plt.figure(\"Exponential\")\n",
    "plt.plot(input_val,expo)\n",
    "plt.figure(\"Trigonometric\")\n",
    "plt.plot(input_val,trig,'ro')\n",
    "plt.xlabel(\"x\")\n",
    "plt.ylabel(\"Sin x\")\n",
    "\n",
    "\n",
    "# creating individual figures for individual values"
   ]
  },
  {
   "cell_type": "code",
   "execution_count": null,
   "metadata": {},
   "outputs": [],
   "source": [
    "plt.figure(\"Compare1\")\n",
    "plt.plot(input_val,cubic,'g-',label = 'cubic')\n",
    "plt.plot(input_val,expo,'k--',label = 'exponential')\n",
    "plt.legend()\n",
    "plt.title(\"Cubic vs Exponential\")\n",
    "plt.ylim(0,20000)"
   ]
  },
  {
   "cell_type": "code",
   "execution_count": null,
   "metadata": {},
   "outputs": [],
   "source": [
    "import numpy as np\n",
    "\n",
    "x_vals = np.linspace(0,2*pi)\n",
    "# print(x_vals)\n",
    "\n",
    "sin_val = [sin(x) for x in x_vals]\n",
    "cos_val = [cos(x) for x in x_vals]\n",
    "\n",
    "plt.figure(\"Sin vs Cos\")\n",
    "plt.subplot(311)\n",
    "plt.plot(x_vals,sin_val,'r-',label = \"sine\")\n",
    "plt.ylim(-1.5,1.5)\n",
    "plt.title(\"Sin x\")\n",
    "plt.subplot(313)\n",
    "plt.plot(x_vals,cos_val,'g--',label = \"cosine\")\n",
    "plt.ylim(-1.5,1.5)\n",
    "plt.title(\"Cosine x\")\n"
   ]
  },
  {
   "cell_type": "code",
   "execution_count": null,
   "metadata": {},
   "outputs": [],
   "source": [
    "in_val = [x for x in range(26)]\n",
    "exp1 = [1.5 ** x for x in in_val]\n",
    "exp2 = [1.75 ** x for x in in_val]\n",
    "exp3 = [2 ** x for x in in_val]\n",
    "\n",
    "plt.figure(\"Different Bases\")\n",
    "plt.subplot(511)\n",
    "plt.plot(in_val,exp1,'r--',label = \"Base: 1.5\")\n",
    "plt.yscale('log')\n",
    "plt.subplot(513)\n",
    "plt.plot(in_val,exp2,'g--',label = \"Base: 1.75\")\n",
    "plt.yscale('log')\n",
    "plt.subplot(515)\n",
    "plt.plot(in_val,exp3,'k--',label = \"Base: 2\")\n",
    "plt.yscale('log')"
   ]
  },
  {
   "cell_type": "code",
   "execution_count": null,
   "metadata": {},
   "outputs": [],
   "source": [
    "\"\"\"\n",
    "\n",
    "    Visualization of Data - An Example\n",
    "\n",
    "\"\"\"\n",
    "\n",
    "def retire(monthly,rate,terms):\n",
    "    savings = [0]\n",
    "    base = [0]\n",
    "    mRate = rate / 12\n",
    "    for i in range(terms):\n",
    "        base += [i]\n",
    "        savings += [savings[-1] * (1+mRate) + monthly]\n",
    "    return base,savings\n",
    "\n",
    "\n",
    "def displayRetireMonthlies(monthlies,rate,terms):\n",
    "    plt.figure('RetireMonth')\n",
    "    plt.clf()\n",
    "\n",
    "    for monthly in monthlies:\n",
    "        xvals, yvals = retire(monthly,rate,terms)\n",
    "        plt.plot(xvals,yvals,label=\"retire:\"+str(monthly))\n",
    "        plt.legend(loc='upper left')\n",
    "\n",
    "#displayRetireMonthlies([500,600,700,800,900,1000,1100,1200,1300,1400,1500],0.05,40*12)  \n",
    "\n",
    "def displayRetireRate(month,rates,terms):\n",
    "    plt.figure('retireRate')\n",
    "    plt.clf()\n",
    "\n",
    "    for rate in rates:\n",
    "        xvals,yvals = retire(month,rate,terms)\n",
    "        plt.plot(xvals,yvals,label = \"retire:\"+str(month)+\":\"+str(int(rate*100)))\n",
    "        plt.legent('upper left')\n",
    "\n",
    "def displayRetireMonthsAndRates(monthlies,rates,terms):\n",
    "    plt.figure('retireBoth')\n",
    "    plt.clf()\n",
    "    plt.xlim(30*12,40*12)\n",
    "    monthLabels = ['r','b','g','k']\n",
    "    rateLabels = ['-','o','--']\n",
    "\n",
    "    for i in range(len(monthlies)):\n",
    "        monthly = monthlies[i]\n",
    "        monthLabel = monthLabels[i % len(monthLabels)]\n",
    "\n",
    "        for j in range(len(rates)):\n",
    "            rate = rates[j]\n",
    "            rateLabel = rateLabels[j % len(rateLabels)]\n",
    "            xvals,yvals = retire(monthly,rate,terms)\n",
    "            plt.plot(xvals,yvals,monthLabel+rateLabel,label='retire:'+str(monthly)+\":\"+str(int(rate*100)))\n",
    "            plt.legend(loc = 'upper left')\n",
    "\n",
    "displayRetireMonthsAndRates([500,700,900,1100],[0.03,0.05,0.07],40*12)                    "
   ]
  }
 ],
 "metadata": {
  "kernelspec": {
   "display_name": "Python 3.9.12 ('base')",
   "language": "python",
   "name": "python3"
  },
  "language_info": {
   "codemirror_mode": {
    "name": "ipython",
    "version": 3
   },
   "file_extension": ".py",
   "mimetype": "text/x-python",
   "name": "python",
   "nbconvert_exporter": "python",
   "pygments_lexer": "ipython3",
   "version": "3.9.12"
  },
  "orig_nbformat": 4,
  "vscode": {
   "interpreter": {
    "hash": "aca1007d70b315df4c9b81801bc31c75ca1efa36944ab2281816f0b0b706cae3"
   }
  }
 },
 "nbformat": 4,
 "nbformat_minor": 2
}
